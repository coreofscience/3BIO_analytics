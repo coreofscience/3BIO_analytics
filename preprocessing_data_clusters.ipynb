{
 "cells": [
  {
   "cell_type": "markdown",
   "metadata": {},
   "source": [
    "Data getting"
   ]
  },
  {
   "cell_type": "code",
   "execution_count": 1,
   "metadata": {},
   "outputs": [],
   "source": [
    "# import libraries for data analysis\n",
    "import pandas as pd\n",
    "import numpy as np\n",
    "import matplotlib.pyplot as plt\n",
    "# import seaborn as sns\n",
    "# import os\n",
    "# import sys"
   ]
  },
  {
   "cell_type": "code",
   "execution_count": 3,
   "metadata": {},
   "outputs": [],
   "source": [
    "# Read data from this url \"https://docs.google.com/spreadsheets/d/1jNY8oEnunCXo80_BWsRtl2ejN6CQstWgs4quDNQpE8Y/edit#gid=0\" and save it as groups\n",
    "groups = pd.read_csv(\"https://docs.google.com/spreadsheets/d/1jNY8oEnunCXo80_BWsRtl2ejN6CQstWgs4quDNQpE8Y/export?format=csv&gid=0\") "
   ]
  },
  {
   "cell_type": "code",
   "execution_count": 6,
   "metadata": {},
   "outputs": [
    {
     "data": {
      "text/plain": [
       "Index(['codigo del grupo', 'nombre grupo', 'lider', 'avalado', 'estado',\n",
       "       'clasificado en', 'link_grupos', 'link_perfiles', 'programa', 'area',\n",
       "       'instituciones', 'fecha_creacion', 'lugar_creacion', 'gran_area',\n",
       "       'anio'],\n",
       "      dtype='object')"
      ]
     },
     "execution_count": 6,
     "metadata": {},
     "output_type": "execute_result"
    }
   ],
   "source": [
    "# show me the column names\n",
    "groups.columns"
   ]
  },
  {
   "cell_type": "code",
   "execution_count": 7,
   "metadata": {},
   "outputs": [],
   "source": [
    "# create a dataframe called groups_selected with the colnames \"codigo del grupo\", \"nombre grupo\", \"estado\", \"anio\"\n",
    "groups_selected = groups[[\"codigo del grupo\", \"nombre grupo\", \"estado\", \"anio\"]]"
   ]
  },
  {
   "cell_type": "code",
   "execution_count": 8,
   "metadata": {},
   "outputs": [],
   "source": [
    "# count unique values in the column \"estado\" and save it as categorias\n",
    "categorias = groups_selected[\"estado\"].value_counts()"
   ]
  },
  {
   "cell_type": "code",
   "execution_count": 11,
   "metadata": {},
   "outputs": [
    {
     "name": "stderr",
     "output_type": "stream",
     "text": [
      "/var/folders/8y/j69blw9d67l72pygvntywxj00000gn/T/ipykernel_5847/29754333.py:2: SettingWithCopyWarning: \n",
      "A value is trying to be set on a copy of a slice from a DataFrame.\n",
      "Try using .loc[row_indexer,col_indexer] = value instead\n",
      "\n",
      "See the caveats in the documentation: https://pandas.pydata.org/pandas-docs/stable/user_guide/indexing.html#returning-a-view-versus-a-copy\n",
      "  groups_selected[\"estado\"] = groups_selected[\"estado\"].replace(\"Categoría 00\", \"Grupo reconocido\")\n"
     ]
    }
   ],
   "source": [
    "# Change the values equals to \"Categoría 00\" to \"Grupo reconocido\" in the column \"estado\" of the dataframe groups_selected\n",
    "groups_selected[\"estado\"] = groups_selected[\"estado\"].replace(\"Categoría 00\", \"Grupo reconocido\")"
   ]
  },
  {
   "cell_type": "code",
   "execution_count": 12,
   "metadata": {},
   "outputs": [],
   "source": [
    "# count unique values in the column \"estado\" and save it as categorias\n",
    "categorias = groups_selected[\"estado\"].value_counts()"
   ]
  },
  {
   "cell_type": "code",
   "execution_count": 13,
   "metadata": {},
   "outputs": [
    {
     "name": "stderr",
     "output_type": "stream",
     "text": [
      "/var/folders/8y/j69blw9d67l72pygvntywxj00000gn/T/ipykernel_5847/52431159.py:2: SettingWithCopyWarning: \n",
      "A value is trying to be set on a copy of a slice from a DataFrame.\n",
      "Try using .loc[row_indexer,col_indexer] = value instead\n",
      "\n",
      "See the caveats in the documentation: https://pandas.pydata.org/pandas-docs/stable/user_guide/indexing.html#returning-a-view-versus-a-copy\n",
      "  groups_selected[\"estado\"] = groups_selected[\"estado\"].str.replace(\"Categoría \", \"\")\n"
     ]
    }
   ],
   "source": [
    "# Remove strings in the column \"estado\" that contains \"Categoría \"\n",
    "groups_selected[\"estado\"] = groups_selected[\"estado\"].str.replace(\"Categoría \", \"\")\n"
   ]
  }
 ],
 "metadata": {
  "kernelspec": {
   "display_name": "Python 3.10.3 64-bit ('scientometrics')",
   "language": "python",
   "name": "python3"
  },
  "language_info": {
   "codemirror_mode": {
    "name": "ipython",
    "version": 3
   },
   "file_extension": ".py",
   "mimetype": "text/x-python",
   "name": "python",
   "nbconvert_exporter": "python",
   "pygments_lexer": "ipython3",
   "version": "3.10.3"
  },
  "orig_nbformat": 4,
  "vscode": {
   "interpreter": {
    "hash": "0e3d817cd9519402f68cdcf7a7487951283cf9badd039ddf3087b46d10d3bcd6"
   }
  }
 },
 "nbformat": 4,
 "nbformat_minor": 2
}
