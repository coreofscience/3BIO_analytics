{
 "cells": [
  {
   "cell_type": "markdown",
   "metadata": {},
   "source": [
    "Data getting"
   ]
  },
  {
   "cell_type": "code",
   "execution_count": 2,
   "metadata": {},
   "outputs": [],
   "source": [
    "# import libraries for data analysis\n",
    "import pandas as pd\n",
    "\n",
    "# Read data from this url \"https://docs.google.com/spreadsheets/d/1jNY8oEnunCXo80_BWsRtl2ejN6CQstWgs4quDNQpE8Y/edit#gid=0\" and save it as groups\n",
    "groups_raw = pd.read_csv(\"https://docs.google.com/spreadsheets/d/1jNY8oEnunCXo80_BWsRtl2ejN6CQstWgs4quDNQpE8Y/export?format=csv&gid=0\") \n",
    "\n",
    "# Create a dataframe called institutions_groups with the column \"instituciones\" from groups_raw\n",
    "institutions_groups = groups_raw[\"instituciones\"]\n",
    "\n",
    "# Create a dataframe called institutions_groups counting the unique values of the column \"instituciones\" from groups_raw\n",
    "institutions_groups = institutions_groups.value_counts()\n",
    "\n",
    "# Change the name of the column \"instituciones\" to \"groups\" in institutions_groups\n",
    "institutions_groups = institutions_groups.rename(\"groups\")\n",
    "\n",
    "# Remove the strings \"Categoría \" from the column \"estado\" in groups_raw\n",
    "groups_raw[\"estado\"] = groups_raw[\"estado\"].str.replace(\"Categoría \", \"\")\n",
    "\n",
    "# Values equals to \"00\" in the column \"estado\" in groups_raw are replaced by \"Grupo reconocido\"\n",
    "groups_raw[\"estado\"] = groups_raw[\"estado\"].replace(\"00\", \"Grupo reconocido\")\n",
    "\n",
    "# Create a dataframe called institutions_gropus with the matrix of the values in the column \"instituciones\" and \"estado\" from groups_raw\n",
    "institutions_category = pd.crosstab(groups_raw[\"instituciones\"], groups_raw[\"estado\"])\n",
    "\n",
    "# Create a dataframe called institutions_year with the unique values of \"instituciones\" and \"anio\" from groups_raw\n",
    "institutions_year = groups_raw[[\"instituciones\", \"anio\"]].drop_duplicates()\n",
    "\n",
    "# From institutions_year, group by \"instituciones\" and filter by the lowest value of \"anio\"\n",
    "institutions_year = institutions_year.groupby(\"instituciones\").min()\n",
    "\n",
    "# Create a dataframe called institutions_cleaned by merging institutions_groups, institutions_category and institutions_year\n",
    "institutions_cleaned = institutions_groups.to_frame().merge(institutions_category, left_index=True, right_index=True).merge(institutions_year, left_index=True, right_index=True)"
   ]
  },
  {
   "cell_type": "code",
   "execution_count": 11,
   "metadata": {},
   "outputs": [],
   "source": [
    "# Create a function with the name \"preprocessing_data_clusters\" that receives the dataframe \"data\" as a parameter and run all the code above\n",
    "def preprocessing_groups_institutions(data):\n",
    "    # Create a dataframe called institutions_groups with the column \"instituciones\" from groups_raw\n",
    "    institutions_groups = data[\"instituciones\"]\n",
    "\n",
    "    # Create a dataframe called institutions_groups counting the unique values of the column \"instituciones\" from groups_raw\n",
    "    institutions_groups = institutions_groups.value_counts()\n",
    "\n",
    "    # Change the name of the column \"instituciones\" to \"groups\" in institutions_groups\n",
    "    institutions_groups = institutions_groups.rename(\"groups\")\n",
    "\n",
    "    # Remove the strings \"Categoría \" from the column \"estado\" in groups_raw\n",
    "    data[\"estado\"] = data[\"estado\"].str.replace(\"Categoría \", \"\")\n",
    "\n",
    "    # Values equals to \"00\" in the column \"estado\" in groups_raw are replaced by \"Grupo reconocido\"\n",
    "    data[\"estado\"] = data[\"estado\"].replace(\"00\", \"Grupo reconocido\")\n",
    "\n",
    "    # Create a dataframe called institutions_gropus with the matrix of the values in the column \"instituciones\" and \"estado\" from groups_raw\n",
    "    institutions_category = pd.crosstab(data[\"instituciones\"], data[\"estado\"])\n",
    "\n",
    "    # Create a dataframe called institutions_year with the unique values of \"instituciones\" and \"anio\" from groups_raw\n",
    "    institutions_year = data[[\"instituciones\", \"anio\"]].drop_duplicates()\n",
    "\n",
    "    # From institutions_year, group by \"instituciones\" and filter by the lowest value of \"anio\"\n",
    "    institutions_year = institutions_year.groupby(\"instituciones\").min()\n",
    "\n",
    "    # Create a dataframe called institutions_cleaned by merging institutions_groups, institutions_category and institutions_year\n",
    "    institutions_cleaned = institutions_groups.to_frame().merge(institutions_category, left_index=True, right_index=True).merge(institutions_year, left_index=True, right_index=True)\n",
    "    \n",
    "    return institutions_cleaned\n",
    "\n",
    "\n"
   ]
  },
  {
   "cell_type": "code",
   "execution_count": 6,
   "metadata": {},
   "outputs": [],
   "source": [
    "# Create a dataframe called institutions_cleaned by running the function \"preprocessing_data_clusters\" with the dataframe \"groups_raw\" as a parameter\n",
    "institutions_cleaned = preprocessing_data_clusters(groups_raw)"
   ]
  },
  {
   "cell_type": "code",
   "execution_count": 5,
   "metadata": {},
   "outputs": [],
   "source": [
    "del institutions_cleaned\n",
    "del institutions_category\n",
    "del institutions_groups\n",
    "del institutions_year"
   ]
  }
 ],
 "metadata": {
  "kernelspec": {
   "display_name": "Python 3.10.3 64-bit ('scientometrics')",
   "language": "python",
   "name": "python3"
  },
  "language_info": {
   "codemirror_mode": {
    "name": "ipython",
    "version": 3
   },
   "file_extension": ".py",
   "mimetype": "text/x-python",
   "name": "python",
   "nbconvert_exporter": "python",
   "pygments_lexer": "ipython3",
   "version": "3.10.3"
  },
  "orig_nbformat": 4,
  "vscode": {
   "interpreter": {
    "hash": "0e3d817cd9519402f68cdcf7a7487951283cf9badd039ddf3087b46d10d3bcd6"
   }
  }
 },
 "nbformat": 4,
 "nbformat_minor": 2
}
