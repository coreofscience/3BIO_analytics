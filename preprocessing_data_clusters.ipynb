{
  "cells": [
    {
      "cell_type": "raw",
      "metadata": {},
      "source": [
        "---\n",
        "title: Preprocessing data\n",
        "author: Sebastian Robledo\n",
        "date: \"Nov 20, 2022\"\n",
        "format:\n",
        "    html:   \n",
        "        code-fold: true\n",
        "---"
      ],
      "id": "9b2c99b1"
    },
    {
      "cell_type": "markdown",
      "metadata": {},
      "source": [
        "The data is in this link\n",
        "https://drive.google.com/drive/u/1/folders/1nwv_jgXQhLbLJVh0dVgh9GSzV_VUj821\n"
      ],
      "id": "76f42359"
    },
    {
      "cell_type": "code",
      "metadata": {},
      "source": [
        "import pandas as pd\n",
        "# run file from the root of the project called \"groups_preprocessing.py\"\n",
        "%run groups_preprocessing.py"
      ],
      "id": "fa8bc318",
      "execution_count": null,
      "outputs": []
    },
    {
      "cell_type": "markdown",
      "metadata": {},
      "source": [
        "# Preprocessing Groups"
      ],
      "id": "58211c4c"
    },
    {
      "cell_type": "code",
      "metadata": {},
      "source": [
        "# create a variable called \"groups_raw\" from the url \"https://drive.google.com/file/d/1Ath8osa-9K4jDhrP5_qZ78AT5UwV79hC/view?usp=share_link\"\"\n",
        "groups_url = \"https://drive.google.com/file/d/1S5Hdhx4aL2MbtxKF6h1TbYd3lg3WZA7j/view?usp=share_link\"\n",
        "groups_url = 'https://drive.google.com/uc?id=' + groups_url.split('/')[-2]\n",
        "groups_raw = pd.read_csv(groups_url, encoding='utf-8')\n",
        "# Run the function \"preprocess_groups\" on the variable \"groups_raw\"\n",
        "institution_groups = preprocessing_groups_institutions(groups_raw)\n",
        "del groups_url"
      ],
      "id": "e8db6f5b",
      "execution_count": null,
      "outputs": []
    },
    {
      "cell_type": "markdown",
      "metadata": {},
      "source": [
        "# Preprocessing products\n",
        "\n",
        "## Papers\n"
      ],
      "id": "feca0837"
    },
    {
      "cell_type": "code",
      "metadata": {},
      "source": [
        "# create a variable called \"groups_raw\" from the url \"https://drive.google.com/file/d/1KrG-06OFCusN2JpgaqtaC4dl6sCpVaaX/view?usp=share_link\"\n",
        "papers_url = \"https://drive.google.com/file/d/1FVOasDcWgGBX41_6mGyt3LudneR29hfj/view?usp=share_link\"\n",
        "papers_url = 'https://drive.google.com/uc?id=' + papers_url.split('/')[-2]\n",
        "papers_raw = pd.read_csv(papers_url, sep=';', encoding='utf-8')\n",
        "del papers_url\n",
        "# Group by \"codigo_grupo\" and count the number of values in column \"titulo\", save the data in dataframe called \"dummy\"\n",
        "# institutions_papers = papers.groupby(['codigo_grupo']).size().reset_index(name='counts')\n",
        "# Run the function \"preprocessing_groups_papers\" on the variable \"papers_raw\" and \"groups_raw\", save the data in dataframe called \"institutions_papers\"\n",
        "institutions_papers = preprocessing_groups_papers(papers_raw, groups_raw)"
      ],
      "id": "79e77220",
      "execution_count": null,
      "outputs": []
    },
    {
      "cell_type": "markdown",
      "metadata": {},
      "source": [
        "# Preprocessing researchers\n"
      ],
      "id": "433d8611"
    },
    {
      "cell_type": "code",
      "metadata": {},
      "source": [
        "# create a variable called \"researchers_raw\" from the url \"https://drive.google.com/file/d/1FVOasDcWgGBX41_6mGyt3LudneR29hfj/view?usp=sharing\"\n",
        "researchers_url = \"https://drive.google.com/file/d/1FVOasDcWgGBX41_6mGyt3LudneR29hfj/view?usp=share_link\"\n",
        "researchers_url = 'https://drive.google.com/uc?id=' + researchers_url.split('/')[-2]\n",
        "researchers_raw = pd.read_csv(researchers_url, sep=';', encoding='latin-1')"
      ],
      "id": "ed09d45e",
      "execution_count": null,
      "outputs": []
    },
    {
      "cell_type": "code",
      "metadata": {},
      "source": [
        "dummy_1= researchers.groupby(['codigo_grupo']).size().reset_index(name='counts')\n",
        "\n",
        "researchers_institutions = groups_raw[['codigo del grupo', 'instituciones']].merge(dummy_1, left_on='codigo del grupo', right_on= 'codigo_grupo', how='left')"
      ],
      "id": "bbea2403",
      "execution_count": null,
      "outputs": []
    },
    {
      "cell_type": "code",
      "metadata": {},
      "source": [
        "# create a variable called \"researchers_raw\" from the url \"https://docs.google.com/spreadsheets/d/1jNY8oEnunCXo80_BWsRtl2ejN6CQstWgs4quDNQpE8Y/export?format=csv&gid=0\"\n",
        "researchers = \"https://drive.google.com/file/d/143u1k6A-LZDhhSGvREzNaXYT4aUEZlGN/view?usp=share_link\"\n",
        "researchers = 'https://drive.google.com/uc?id=' + researchers.split('/')[-2]\n",
        "researchers = pd.read_csv(\"https://docs.google.com/spreadsheets/d/1jNY8oEnunCXo80_BWsRtl2ejN6CQstWgs4quDNQpE8Y/export?format=csv&gid=0\")"
      ],
      "id": "5a6319f5",
      "execution_count": null,
      "outputs": []
    },
    {
      "cell_type": "markdown",
      "metadata": {},
      "source": [
        "How many instituciones do we have in reserachers?"
      ],
      "id": "f9d30ebb"
    },
    {
      "cell_type": "code",
      "metadata": {},
      "source": [
        "# group the variable \"instituciones\" in researchers and count the number of rows in each group and sort them in descending order and save the result in a variable called \"researchers_institutions\"\n",
        "researchers_institutions = researchers_raw.groupby(\"instituciones\").size().sort_values(ascending=False)"
      ],
      "id": "c93f2f2f",
      "execution_count": null,
      "outputs": []
    },
    {
      "cell_type": "markdown",
      "metadata": {},
      "source": [
        "## Reading data from papers"
      ],
      "id": "b6a72d98"
    },
    {
      "cell_type": "code",
      "metadata": {},
      "source": [
        "url='https://drive.google.com/file/d/1KrG-06OFCusN2JpgaqtaC4dl6sCpVaaX/view?usp=share_link'\n",
        "url='https://drive.google.com/uc?id=' + url.split('/')[-2]\n",
        "papers = pd.read_csv(url)"
      ],
      "id": "238f6bc2",
      "execution_count": null,
      "outputs": []
    },
    {
      "cell_type": "code",
      "metadata": {},
      "source": [
        "# Show me the first ten row of papers dataframe\n",
        "papers.head(10)"
      ],
      "id": "54e5f0ff",
      "execution_count": null,
      "outputs": []
    },
    {
      "cell_type": "code",
      "metadata": {},
      "source": [
        "integrantes='https://drive.google.com/file/d/143u1k6A-LZDhhSGvREzNaXYT4aUEZlGN/view?usp=share_link'\n",
        "integrantes='https://drive.google.com/uc?id=' + integrantes.split('/')[-2]\n",
        "integrantes = pd.read_csv(integrantes)"
      ],
      "id": "9a765973",
      "execution_count": null,
      "outputs": []
    },
    {
      "cell_type": "code",
      "metadata": {},
      "source": [
        "# read the data from this url \"https://docs.google.com/spreadsheets/d/1xmA2VoQt3-cOC2b2-s3JQqt28XkS2Uz7erI2lriC-ys/export?format=csv&gid=1353066533\" and remove the first row\n",
        "resumen = pd.read_csv(\"https://docs.google.com/spreadsheets/d/1xmA2VoQt3-cOC2b2-s3JQqt28XkS2Uz7erI2lriC-ys/export?format=csv&gid=1353066533\", skiprows=1)"
      ],
      "id": "fed56404",
      "execution_count": null,
      "outputs": []
    }
  ],
  "metadata": {
    "kernelspec": {
      "name": "python3",
      "language": "python",
      "display_name": "Python 3 (ipykernel)"
    }
  },
  "nbformat": 4,
  "nbformat_minor": 5
}