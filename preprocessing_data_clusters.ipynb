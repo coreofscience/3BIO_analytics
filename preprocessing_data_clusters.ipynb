{
  "cells": [
    {
      "cell_type": "raw",
      "metadata": {},
      "source": [
        "---\n",
        "title: Preprocessing data\n",
        "author: Sebastian Robledo\n",
        "date: \"Nov 20, 2022\"\n",
        "format:\n",
        "    html:   \n",
        "        code-fold: true\n",
        "---"
      ],
      "id": "2f108e4d"
    },
    {
      "cell_type": "code",
      "metadata": {},
      "source": [
        "import pandas as pd\n",
        "# run file from the root of the project called \"groups_preprocessing.py\"\n",
        "%run groups_preprocessing.py"
      ],
      "id": "8c0f9139",
      "execution_count": null,
      "outputs": []
    },
    {
      "cell_type": "markdown",
      "metadata": {},
      "source": [
        "# Preprocessing data"
      ],
      "id": "1501e5a8"
    },
    {
      "cell_type": "code",
      "metadata": {},
      "source": [
        "# create a variable called \"groups_raw\" from the url \"https://docs.google.com/spreadsheets/d/1jNY8oEnunCXo80_BWsRtl2ejN6CQstWgs4quDNQpE8Y/export?format=csv&gid=0\"\n",
        "groups_raw = pd.read_csv(\"https://docs.google.com/spreadsheets/d/1jNY8oEnunCXo80_BWsRtl2ejN6CQstWgs4quDNQpE8Y/export?format=csv&gid=0\")\n",
        "\n",
        "# Run the function \"preprocess_groups\" on the variable \"groups_raw\"\n",
        "institutions_1 = preprocessing_groups_institutions(groups_raw)"
      ],
      "id": "6f93b50f",
      "execution_count": null,
      "outputs": []
    },
    {
      "cell_type": "code",
      "metadata": {},
      "source": [
        "# Show me the shape of the variable \"groups\"\n",
        "institutions_1.shape"
      ],
      "id": "1747df41",
      "execution_count": null,
      "outputs": []
    }
  ],
  "metadata": {
    "kernelspec": {
      "name": "python3",
      "language": "python",
      "display_name": "Python 3 (ipykernel)"
    }
  },
  "nbformat": 4,
  "nbformat_minor": 5
}