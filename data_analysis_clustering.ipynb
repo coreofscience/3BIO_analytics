{
 "cells": [
  {
   "cell_type": "code",
   "execution_count": 1,
   "metadata": {},
   "outputs": [],
   "source": [
    "from sklearn.cluster import KMeans \n",
    "from sklearn.preprocessing import MinMaxScaler\n",
    "import numpy as np\n",
    "import pandas as pd\n",
    "import matplotlib.pyplot as plt\n",
    "#import os\n",
    "import plotly\n",
    "import plotly.express as px\n",
    "from sklearn.preprocessing import StandardScaler\n",
    "from sklearn.model_selection import train_test_split\n",
    "from sklearn.linear_model import LogisticRegression"
   ]
  },
  {
   "cell_type": "markdown",
   "metadata": {},
   "source": [
    "# Data Getting"
   ]
  },
  {
   "cell_type": "code",
   "execution_count": 2,
   "metadata": {},
   "outputs": [],
   "source": [
    "#read a file from this url \"https://drive.google.com/file/d/1JNncMKuaXSwuQEp-S6wui4jiDcPGoCkU/view?usp=share_link\" and save it as groups_data\n",
    "groups_data = pd.read_csv(\"/Users/sebastianrobledo/Documents/Research/3BIO_analytics/info_grupos_merged_separado_instituciones.csv\")"
   ]
  },
  {
   "cell_type": "markdown",
   "metadata": {},
   "source": [
    "# Data describing"
   ]
  },
  {
   "cell_type": "code",
   "execution_count": 3,
   "metadata": {},
   "outputs": [
    {
     "data": {
      "text/plain": [
       "Index(['codigo del grupo', 'nombre grupo', 'lider', 'avalado', 'estado',\n",
       "       'clasificado en', 'link_grupos', 'link_perfiles', 'programa', 'area',\n",
       "       'instituciones', 'fecha_creacion', 'lugar_creacion', 'gran_area',\n",
       "       'anio'],\n",
       "      dtype='object')"
      ]
     },
     "execution_count": 3,
     "metadata": {},
     "output_type": "execute_result"
    }
   ],
   "source": [
    "# Show me the column names of groups_data\n",
    "groups_data.columns"
   ]
  },
  {
   "cell_type": "code",
   "execution_count": 4,
   "metadata": {},
   "outputs": [
    {
     "data": {
      "text/plain": [
       "(13081, 15)"
      ]
     },
     "execution_count": 4,
     "metadata": {},
     "output_type": "execute_result"
    }
   ],
   "source": [
    "# count the number of rows and columns in groups_data\n",
    "groups_data.shape"
   ]
  },
  {
   "cell_type": "code",
   "execution_count": 5,
   "metadata": {},
   "outputs": [
    {
     "data": {
      "text/plain": [
       "5952"
      ]
     },
     "execution_count": 5,
     "metadata": {},
     "output_type": "execute_result"
    }
   ],
   "source": [
    "# Count the unique values in the column \"codigo del grupo\"\n",
    "groups_data[\"codigo del grupo\"].nunique()\n"
   ]
  },
  {
   "cell_type": "code",
   "execution_count": 6,
   "metadata": {},
   "outputs": [
    {
     "data": {
      "text/plain": [
       "COL0016775    16\n",
       "COL0111498    16\n",
       "COL0078679    16\n",
       "COL0147768    16\n",
       "COL0132119    15\n",
       "              ..\n",
       "COL0189786     1\n",
       "COL0187478     1\n",
       "COL0195747     1\n",
       "COL0105267     1\n",
       "COL0211751     1\n",
       "Name: codigo del grupo, Length: 5952, dtype: int64"
      ]
     },
     "execution_count": 6,
     "metadata": {},
     "output_type": "execute_result"
    }
   ],
   "source": [
    "# create a dataframe with the unique values of \"codigo del grupo\" and other column with the number of times that value appears\n",
    "groups_data[\"codigo del grupo\"].value_counts() "
   ]
  },
  {
   "cell_type": "code",
   "execution_count": 7,
   "metadata": {},
   "outputs": [
    {
     "data": {
      "text/plain": [
       "codigo del grupo    object\n",
       "nombre grupo        object\n",
       "lider               object\n",
       "avalado             object\n",
       "estado              object\n",
       "clasificado en      object\n",
       "link_grupos         object\n",
       "link_perfiles       object\n",
       "programa            object\n",
       "area                object\n",
       "instituciones       object\n",
       "fecha_creacion      object\n",
       "lugar_creacion      object\n",
       "gran_area           object\n",
       "anio                 int64\n",
       "dtype: object"
      ]
     },
     "execution_count": 7,
     "metadata": {},
     "output_type": "execute_result"
    }
   ],
   "source": [
    "# show me the type of data in each column of groups_data\n",
    "groups_data.dtypes"
   ]
  },
  {
   "cell_type": "code",
   "execution_count": 8,
   "metadata": {},
   "outputs": [],
   "source": [
    "# create a dataframe called estado with column \"estado\" and remove the string \"Categoría \" from the values in that column\n",
    "estado = groups_data[\"estado\"].str.replace(\"Categoría \",\"\")"
   ]
  },
  {
   "cell_type": "code",
   "execution_count": 9,
   "metadata": {},
   "outputs": [],
   "source": [
    "# Create a dataframe from groups_data filtered by the unique values in the column \"codigo del grupo\"\n",
    "groups_data_filtered = groups_data.groupby(\"codigo del grupo\").first()"
   ]
  },
  {
   "cell_type": "code",
   "execution_count": 10,
   "metadata": {},
   "outputs": [
    {
     "data": {
      "text/plain": [
       "(5952, 14)"
      ]
     },
     "execution_count": 10,
     "metadata": {},
     "output_type": "execute_result"
    }
   ],
   "source": [
    "# Show me the shape of groups_data_filtered\n",
    "groups_data_filtered.shape"
   ]
  },
  {
   "cell_type": "code",
   "execution_count": 11,
   "metadata": {},
   "outputs": [
    {
     "data": {
      "text/plain": [
       "Index(['nombre grupo', 'lider', 'avalado', 'estado', 'clasificado en',\n",
       "       'link_grupos', 'link_perfiles', 'programa', 'area', 'instituciones',\n",
       "       'fecha_creacion', 'lugar_creacion', 'gran_area', 'anio'],\n",
       "      dtype='object')"
      ]
     },
     "execution_count": 11,
     "metadata": {},
     "output_type": "execute_result"
    }
   ],
   "source": [
    "# Show me the column names of groups_data_filtered\n",
    "groups_data_filtered.columns"
   ]
  },
  {
   "cell_type": "code",
   "execution_count": 12,
   "metadata": {},
   "outputs": [],
   "source": [
    "# Create a dataframe called groups_filtered with the columns \"nombre grupo\", \"estado\", \"instituciones\", \"fecha_creacion\", \"anio\"\n",
    "groups_filtered = groups_data_filtered[[\"nombre grupo\", \"estado\", \"instituciones\", \"fecha_creacion\", \"anio\"]]"
   ]
  },
  {
   "cell_type": "code",
   "execution_count": 13,
   "metadata": {},
   "outputs": [],
   "source": [
    "# Group the values in the column \"estado\" and count the number of times each value appears, save it as estado_count\n",
    "estado_count = groups_filtered[\"estado\"].value_counts()"
   ]
  },
  {
   "cell_type": "code",
   "execution_count": 14,
   "metadata": {},
   "outputs": [
    {
     "name": "stderr",
     "output_type": "stream",
     "text": [
      "/var/folders/8y/j69blw9d67l72pygvntywxj00000gn/T/ipykernel_1726/4027708931.py:2: SettingWithCopyWarning: \n",
      "A value is trying to be set on a copy of a slice from a DataFrame.\n",
      "Try using .loc[row_indexer,col_indexer] = value instead\n",
      "\n",
      "See the caveats in the documentation: https://pandas.pydata.org/pandas-docs/stable/user_guide/indexing.html#returning-a-view-versus-a-copy\n",
      "  groups_filtered[\"estado\"] = groups_filtered[\"estado\"].replace(\"Categoría 00\", \"Grupo reconocido\")\n"
     ]
    }
   ],
   "source": [
    "# Change the values equal to \"Categoría 00\" to \"Grupo Reconocido\" in the column \"estado\" from groups_filtered\n",
    "groups_filtered[\"estado\"] = groups_filtered[\"estado\"].replace(\"Categoría 00\", \"Grupo reconocido\")\n"
   ]
  },
  {
   "cell_type": "code",
   "execution_count": 15,
   "metadata": {},
   "outputs": [],
   "source": [
    "# Group the values in the column \"estado\" and count the number of times each value appears, save it as estado_count_1\n",
    "estado_count_1 = groups_filtered[\"estado\"].value_counts()"
   ]
  },
  {
   "cell_type": "code",
   "execution_count": 16,
   "metadata": {},
   "outputs": [],
   "source": [
    "# Create a dataframe with the unique values of instituciones and other column with the number of times that value appears and save it as instituciones_count. Name the new column \"count\"\n",
    "instituciones_count = groups_filtered[\"instituciones\"].value_counts().reset_index(name=\"count\")\n"
   ]
  },
  {
   "cell_type": "code",
   "execution_count": 17,
   "metadata": {},
   "outputs": [],
   "source": [
    "# Create a dataframe with the matrix of the values in the column \"instituciones\" and the column \"estado\" and save it as estado_instituciones\n",
    "estado_instituciones = pd.crosstab(groups_filtered[\"instituciones\"], groups_filtered[\"estado\"])\n"
   ]
  },
  {
   "cell_type": "code",
   "execution_count": 18,
   "metadata": {},
   "outputs": [
    {
     "data": {
      "text/plain": [
       "(770, 5)"
      ]
     },
     "execution_count": 18,
     "metadata": {},
     "output_type": "execute_result"
    }
   ],
   "source": [
    "# Show me the shape of estado_instituciones\n",
    "estado_instituciones.shape"
   ]
  },
  {
   "cell_type": "code",
   "execution_count": 19,
   "metadata": {},
   "outputs": [
    {
     "data": {
      "text/plain": [
       "(770, 2)"
      ]
     },
     "execution_count": 19,
     "metadata": {},
     "output_type": "execute_result"
    }
   ],
   "source": [
    "# Show the shape of instituciones_count\n",
    "instituciones_count.shape"
   ]
  },
  {
   "cell_type": "code",
   "execution_count": 20,
   "metadata": {},
   "outputs": [],
   "source": [
    "# Merge the dataframes estado_instituciones and instituciones_count by the column \"instituciones\" from estado_instituciones and the column \"index\" from instituciones_count\n",
    "estado_instituciones = estado_instituciones.merge(instituciones_count, left_index=True, right_on=\"index\")"
   ]
  },
  {
   "cell_type": "code",
   "execution_count": 21,
   "metadata": {},
   "outputs": [
    {
     "name": "stderr",
     "output_type": "stream",
     "text": [
      "/var/folders/8y/j69blw9d67l72pygvntywxj00000gn/T/ipykernel_1726/869303622.py:2: SettingWithCopyWarning: \n",
      "A value is trying to be set on a copy of a slice from a DataFrame.\n",
      "Try using .loc[row_indexer,col_indexer] = value instead\n",
      "\n",
      "See the caveats in the documentation: https://pandas.pydata.org/pandas-docs/stable/user_guide/indexing.html#returning-a-view-versus-a-copy\n",
      "  groups_filtered[\"years\"] = 2022 - groups_filtered[\"anio\"]\n"
     ]
    }
   ],
   "source": [
    "# add a column to groups_filtered called \"years\" with the difference between the current year and the year in the column \"anio\"\n",
    "groups_filtered[\"years\"] = 2022 - groups_filtered[\"anio\"]"
   ]
  },
  {
   "cell_type": "code",
   "execution_count": 22,
   "metadata": {},
   "outputs": [],
   "source": [
    "# Change the name of the column \"estado\" to \"category\" in groups_filtered\n",
    "groups_filtered = groups_filtered.rename(columns={\"estado\": \"category\"})"
   ]
  },
  {
   "cell_type": "code",
   "execution_count": 23,
   "metadata": {},
   "outputs": [],
   "source": [
    "# Remove the string \"Categoría \" from the values in the column \"category\" from groups_filtered\n",
    "groups_filtered[\"category\"] = groups_filtered[\"category\"].str.replace(\"Categoría \",\"\")"
   ]
  },
  {
   "cell_type": "code",
   "execution_count": 24,
   "metadata": {},
   "outputs": [],
   "source": [
    "# export the dataframe groups_filtered to a csv file called \"groups_filtered.csv\"\n",
    "groups_filtered.to_csv(\"groups_filtered.csv\")"
   ]
  }
 ],
 "metadata": {
  "kernelspec": {
   "display_name": "Python 3.10.3 64-bit ('scientometrics')",
   "language": "python",
   "name": "python3"
  },
  "language_info": {
   "codemirror_mode": {
    "name": "ipython",
    "version": 3
   },
   "file_extension": ".py",
   "mimetype": "text/x-python",
   "name": "python",
   "nbconvert_exporter": "python",
   "pygments_lexer": "ipython3",
   "version": "3.10.3"
  },
  "orig_nbformat": 4,
  "vscode": {
   "interpreter": {
    "hash": "0e3d817cd9519402f68cdcf7a7487951283cf9badd039ddf3087b46d10d3bcd6"
   }
  }
 },
 "nbformat": 4,
 "nbformat_minor": 2
}
