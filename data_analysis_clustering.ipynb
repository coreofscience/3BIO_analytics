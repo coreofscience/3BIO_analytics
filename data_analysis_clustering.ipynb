{
 "cells": [
  {
   "cell_type": "code",
   "execution_count": 3,
   "metadata": {},
   "outputs": [],
   "source": [
    "#from sklearn.cluster import KMeans \n",
    "#from sklearn.preprocessing import MinMaxScaler\n",
    "import numpy as np\n",
    "import pandas as pd\n",
    "import matplotlib.pyplot as plt\n",
    "#import os\n",
    "import plotly\n",
    "import plotly.express as px\n",
    "#from sklearn.preprocessing import StandardScaler\n",
    "#from sklearn.model_selection import train_test_split\n",
    "#from sklearn.linear_model import LogisticRegression"
   ]
  },
  {
   "cell_type": "code",
   "execution_count": 7,
   "metadata": {},
   "outputs": [
    {
     "data": {
      "text/plain": [
       "15"
      ]
     },
     "execution_count": 7,
     "metadata": {},
     "output_type": "execute_result"
    }
   ],
   "source": [
    "#read a file from this url \"https://drive.google.com/file/d/1JNncMKuaXSwuQEp-S6wui4jiDcPGoCkU/view?usp=share_link\" and save it as groups_data\n",
    "groups_data = pd.read_csv(\"/Users/sebastianrobledo/Documents/Research/3BIO_analytics/info_grupos_merged_separado_instituciones.csv\")\n",
    "\n",
    "# show me the column names of the data\n",
    "groups_data.columns\n",
    "\n",
    "# Count the number of variables in the data groups_data\n",
    "len(groups_data.columns)"
   ]
  },
  {
   "cell_type": "code",
   "execution_count": 8,
   "metadata": {},
   "outputs": [
    {
     "data": {
      "text/plain": [
       "Index(['codigo del grupo', 'nombre grupo', 'lider', 'avalado', 'estado',\n",
       "       'clasificado en', 'link_grupos', 'link_perfiles', 'programa', 'area',\n",
       "       'instituciones', 'fecha_creacion', 'lugar_creacion', 'gran_area',\n",
       "       'anio'],\n",
       "      dtype='object')"
      ]
     },
     "execution_count": 8,
     "metadata": {},
     "output_type": "execute_result"
    }
   ],
   "source": [
    "# show me the column names of the data\n",
    "groups_data.columns"
   ]
  }
 ],
 "metadata": {
  "kernelspec": {
   "display_name": "Python 3.10.3 64-bit ('scientometrics')",
   "language": "python",
   "name": "python3"
  },
  "language_info": {
   "codemirror_mode": {
    "name": "ipython",
    "version": 3
   },
   "file_extension": ".py",
   "mimetype": "text/x-python",
   "name": "python",
   "nbconvert_exporter": "python",
   "pygments_lexer": "ipython3",
   "version": "3.10.3"
  },
  "orig_nbformat": 4,
  "vscode": {
   "interpreter": {
    "hash": "0e3d817cd9519402f68cdcf7a7487951283cf9badd039ddf3087b46d10d3bcd6"
   }
  }
 },
 "nbformat": 4,
 "nbformat_minor": 2
}
