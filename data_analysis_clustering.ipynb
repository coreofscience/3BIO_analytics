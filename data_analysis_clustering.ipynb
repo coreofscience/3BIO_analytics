{
 "cells": [
  {
   "cell_type": "code",
   "execution_count": null,
   "metadata": {},
   "outputs": [],
   "source": [
    "from sklearn.cluster import KMeans \n",
    "from sklearn.preprocessing import MinMaxScaler\n",
    "import numpy as np\n",
    "import pandas as pd\n",
    "import matplotlib.pyplot as plt\n",
    "import plotly.express as px\n",
    "from sklearn.preprocessing import StandardScaler\n",
    "from sklearn.model_selection import train_test_split\n",
    "from sklearn.linear_model import LogisticRegression\n",
    "from datetime import date\n"
   ]
  },
  {
   "cell_type": "markdown",
   "metadata": {},
   "source": [
    "# Data Getting"
   ]
  },
  {
   "cell_type": "code",
   "execution_count": 1524,
   "metadata": {},
   "outputs": [],
   "source": [
    "#read a file from this url \"https://drive.google.com/file/d/1JNncMKuaXSwuQEp-S6wui4jiDcPGoCkU/view?usp=share_link\" and save it as groups_data\n",
    "groups_data = pd.read_csv(\"/Users/sebastianrobledo/Documents/Research/3BIO_analytics/info_grupos_merged_separado_instituciones.csv\")"
   ]
  },
  {
   "cell_type": "markdown",
   "metadata": {},
   "source": [
    "# Data describing"
   ]
  },
  {
   "cell_type": "code",
   "execution_count": null,
   "metadata": {},
   "outputs": [],
   "source": [
    "# Show me the column names of groups_data\n",
    "groups_data.columns"
   ]
  },
  {
   "cell_type": "code",
   "execution_count": null,
   "metadata": {},
   "outputs": [],
   "source": [
    "# count the number of rows and columns in groups_data\n",
    "groups_data.shape"
   ]
  },
  {
   "cell_type": "code",
   "execution_count": null,
   "metadata": {},
   "outputs": [],
   "source": [
    "# Count the unique values in the column \"codigo del grupo\"\n",
    "groups_data[\"codigo del grupo\"].nunique()\n"
   ]
  },
  {
   "cell_type": "code",
   "execution_count": null,
   "metadata": {},
   "outputs": [],
   "source": [
    "# create a dataframe with the unique values of \"codigo del grupo\" and other column with the number of times that value appears\n",
    "groups_data[\"codigo del grupo\"].value_counts() "
   ]
  },
  {
   "cell_type": "code",
   "execution_count": null,
   "metadata": {},
   "outputs": [],
   "source": [
    "# show me the type of data in each column of groups_data\n",
    "groups_data.dtypes"
   ]
  },
  {
   "cell_type": "code",
   "execution_count": null,
   "metadata": {},
   "outputs": [],
   "source": [
    "# create a dataframe called estado with column \"estado\" and remove the string \"Categoría \" from the values in that column\n",
    "estado = groups_data[\"estado\"].str.replace(\"Categoría \",\"\")"
   ]
  },
  {
   "cell_type": "code",
   "execution_count": null,
   "metadata": {},
   "outputs": [],
   "source": [
    "# Create a dataframe from groups_data filtered by the unique values in the column \"codigo del grupo\"\n",
    "groups_data_filtered = groups_data.groupby(\"codigo del grupo\").first()"
   ]
  },
  {
   "cell_type": "code",
   "execution_count": null,
   "metadata": {},
   "outputs": [],
   "source": [
    "# Show me the shape of groups_data_filtered\n",
    "groups_data_filtered"
   ]
  },
  {
   "cell_type": "code",
   "execution_count": null,
   "metadata": {},
   "outputs": [],
   "source": [
    "# Show me the column names of groups_data_filtered\n",
    "groups_data_filtered.columns"
   ]
  },
  {
   "cell_type": "code",
   "execution_count": null,
   "metadata": {},
   "outputs": [],
   "source": [
    "# Create a dataframe called groups_filtered with the columns \"nombre grupo\", \"estado\", \"instituciones\", \"fecha_creacion\", \"anio\"\n",
    "groups_filtered = groups_data_filtered[[\"nombre grupo\", \"estado\", \"instituciones\", \"fecha_creacion\", \"anio\"]]"
   ]
  },
  {
   "cell_type": "code",
   "execution_count": null,
   "metadata": {},
   "outputs": [],
   "source": [
    "# Group the values in the column \"estado\" and count the number of times each value appears, save it as estado_count\n",
    "estado_count = groups_filtered[\"estado\"].value_counts()"
   ]
  },
  {
   "cell_type": "code",
   "execution_count": null,
   "metadata": {},
   "outputs": [],
   "source": [
    "# Change the values equal to \"Categoría 00\" to \"Grupo Reconocido\" in the column \"estado\" from groups_filtered\n",
    "groups_filtered[\"estado\"] = groups_filtered[\"estado\"].replace(\"Categoría 00\", \"Grupo reconocido\")\n"
   ]
  },
  {
   "cell_type": "code",
   "execution_count": null,
   "metadata": {},
   "outputs": [],
   "source": [
    "# Group the values in the column \"estado\" and count the number of times each value appears, save it as estado_count_1\n",
    "estado_count_1 = groups_filtered[\"estado\"].value_counts()"
   ]
  },
  {
   "cell_type": "code",
   "execution_count": null,
   "metadata": {},
   "outputs": [],
   "source": [
    "# Create a dataframe with the unique values of instituciones and other column with the number of times that value appears and save it as instituciones_count. Name the new column \"count\"\n",
    "instituciones_count = groups_filtered[\"instituciones\"].value_counts().reset_index(name=\"count\")\n"
   ]
  },
  {
   "cell_type": "code",
   "execution_count": null,
   "metadata": {},
   "outputs": [],
   "source": [
    "# Create a dataframe with the matrix of the values in the column \"instituciones\" and the column \"estado\" and save it as estado_instituciones\n",
    "estado_instituciones = pd.crosstab(groups_filtered[\"instituciones\"], groups_filtered[\"estado\"])\n"
   ]
  },
  {
   "cell_type": "code",
   "execution_count": null,
   "metadata": {},
   "outputs": [],
   "source": [
    "# Show me the shape of estado_instituciones\n",
    "estado_instituciones.shape"
   ]
  },
  {
   "cell_type": "code",
   "execution_count": null,
   "metadata": {},
   "outputs": [],
   "source": [
    "# Show the shape of instituciones_count\n",
    "instituciones_count.shape"
   ]
  },
  {
   "cell_type": "code",
   "execution_count": null,
   "metadata": {},
   "outputs": [],
   "source": [
    "# Merge the dataframes estado_instituciones and instituciones_count by the column \"instituciones\" from estado_instituciones and the column \"index\" from instituciones_count\n",
    "estado_instituciones = estado_instituciones.merge(instituciones_count, left_index=True, right_on=\"index\")"
   ]
  },
  {
   "cell_type": "code",
   "execution_count": null,
   "metadata": {},
   "outputs": [],
   "source": [
    "# Change the name of the column \"estado\" to \"category\" in groups_filtered\n",
    "groups_filtered = groups_filtered.rename(columns={\"estado\": \"category\"})"
   ]
  },
  {
   "cell_type": "code",
   "execution_count": null,
   "metadata": {},
   "outputs": [],
   "source": [
    "# Remove the string \"Categoría \" from the values in the column \"category\" from groups_filtered\n",
    "groups_filtered[\"category\"] = groups_filtered[\"category\"].str.replace(\"Categoría \",\"\")"
   ]
  },
  {
   "cell_type": "code",
   "execution_count": null,
   "metadata": {},
   "outputs": [],
   "source": [
    "# add to the dataframe named groups_filtered columns  with the values of the column \"category\"\n",
    "groups_filtered = pd.get_dummies(groups_filtered, columns=[\"category\"])"
   ]
  },
  {
   "cell_type": "code",
   "execution_count": null,
   "metadata": {},
   "outputs": [],
   "source": [
    "groups_filtered.to_csv(\"groups.csv\")"
   ]
  },
  {
   "cell_type": "code",
   "execution_count": null,
   "metadata": {},
   "outputs": [],
   "source": [
    "#update the dataframe groups_filtered_instituciones with the column \"anio\" with the min value of the column \"anio\" from groups_filtered where instituciones is equal to the index of groups_filtered_instituciones\n",
    "group = groups_filtered[\"anio\"] = groups_filtered.groupby(\"instituciones\")[\"anio\"].min()"
   ]
  },
  {
   "cell_type": "code",
   "execution_count": null,
   "metadata": {},
   "outputs": [],
   "source": [
    "#merge the dataframe \"groups_filtered\" with the dataframe \"gruop\" by the column \"instutuciones\"\n",
    "groups_filtered = groups_filtered.merge(group, left_on=\"instituciones\", right_on=\"instituciones\")\n"
   ]
  },
  {
   "cell_type": "code",
   "execution_count": null,
   "metadata": {},
   "outputs": [],
   "source": [
    "#delete column anio_x of dataframe groups_filtered\n",
    "groups_filtered = groups_filtered.drop(columns=[\"anio_x\"])"
   ]
  },
  {
   "cell_type": "code",
   "execution_count": null,
   "metadata": {},
   "outputs": [],
   "source": [
    "#rename column anio_y of dataframe groups_filtered to min_anio_institucion\n",
    "groups_filtered = groups_filtered.rename(columns={\"anio_y\": \"min_anio_institucion\"})"
   ]
  },
  {
   "cell_type": "code",
   "execution_count": null,
   "metadata": {},
   "outputs": [],
   "source": [
    "# add a column to groups_filtered called \"years\" with the difference between the current year and the year in the column \"anio\"\n",
    "groups_filtered[\"years\"] = date.today().year - groups_filtered[\"min_anio_institucion\"]"
   ]
  },
  {
   "cell_type": "code",
   "execution_count": null,
   "metadata": {},
   "outputs": [],
   "source": [
    "groups_filtered = groups_filtered.groupby('instituciones').agg(\n",
    "    {\n",
    "        'min_anio_institucion':'mean',\n",
    "        'years':'mean',\n",
    "        'category_A':'sum',\n",
    "        'category_A1':'sum',\n",
    "        'category_B':'sum',\n",
    "        'category_C':'sum',\n",
    "        'category_Grupo reconocido':'sum'\n",
    "    }\n",
    ").reset_index()"
   ]
  },
  {
   "cell_type": "code",
   "execution_count": null,
   "metadata": {},
   "outputs": [],
   "source": [
    "groups_filtered.to_csv(\"groupsXinstitucion.csv\")"
   ]
  }
 ],
 "metadata": {
  "kernelspec": {
   "display_name": "Python 3.9.12 ('base')",
   "language": "python",
   "name": "python3"
  },
  "language_info": {
   "codemirror_mode": {
    "name": "ipython",
    "version": 3
   },
   "file_extension": ".py",
   "mimetype": "text/x-python",
   "name": "python",
   "nbconvert_exporter": "python",
   "pygments_lexer": "ipython3",
   "version": "3.9.12"
  },
  "orig_nbformat": 4,
  "vscode": {
   "interpreter": {
    "hash": "7679c2132d3f6ce38c9df14d554b39c06862b36a4e6689c81f9ae15bd0911d7d"
   }
  }
 },
 "nbformat": 4,
 "nbformat_minor": 2
}
